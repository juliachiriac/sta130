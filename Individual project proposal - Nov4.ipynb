{
 "cells": [
  {
   "cell_type": "markdown",
   "id": "bdc8bede",
   "metadata": {},
   "source": [
    "# 1. Social interaction (CONNECTION_meaningful_interactions)  and satisfaction with life overall (WELLNESS_life_satisfaction)’\n",
    "\n",
    "The research question: Does the frequency of meaningful social interactions correlate with overall life satisfaction?\n",
    "\n",
    "This question addresses how social connections impact well-being, a central theme of the project. The data available on social interactions and life satisfaction make this analysis feasible, by using ‘CONNECTION_meaningful_interactions’ and ‘WELLNESS_life_satisfaction’.\n",
    "\n",
    "Hypothesis: I hypothesize that there will be a positive correlation between the frequency of meaningful social interactions and life satisfaction. \n",
    "\n",
    "Independent variable: CONNECTION_meaningful_interactions\n",
    "\n",
    "Dependent variable: WELLNESS_life_satisfaction\n",
    "\n",
    "To analyze the variables, I plan to perform a correlation analysis to determine the strength and direction of the relationship between them. Then, I plan to visualize the relationship using a scatter plot and calculate a correlation coefficient to quantify the correlation. A positive correlation would mean that the more meaningful social interactions an individual has, the more they will feel overall life satisfaction. However, a negative correlation or no correlation would mean that meaningful interactions do not directly impact life satisfaction or that other factors play a stronger role.\n",
    "\n",
    "By analyzing these 2 variables, the relationship could provide valuable insights into the importance of social well-being as a determinant of life satisfaction, highlighting potential areas for mental and social health interventions\n",
    "\n",
    "# 2. DEMO_identity_pwud and Indigenous identity\n",
    "\n",
    "The research question: Is there a significant association between identifying as Indigenous and reporting a substance use issue? \n",
    "\n",
    "This question aims to investigate whether there is a disproportionate representation of Indigenous identity among those who report substance use issues. The analysis is feasible given the data and is relevant to discussions on health inequities.\n",
    "\n",
    "Hypothesis: I hypothesize that there will be a significant association between identifying as Indigenous and reporting a substance use issue.\n",
    "\n",
    "Independent variable: DEMO_identity_pwud\n",
    "\n",
    "Dependent variable: DEMO_identity_indigenous\n",
    "\n",
    "To analyze these variables I plan to conduct a chi-square test of independence on a large sample size to determine if there is a statistically significant relationship between reporting a substance use issue and identifying as Indigenous. I will use a contingency table to summarize the distribution of Indigenous identity among those who do and do not report substance use. Then, to visualize the data, a bar chart will be used to show the proportion of individuals with drug abuse problems who are also Indigenous individuals. A significant association could suggest that indigenous  individuals may be more likely to report substance use issues. A non-significant association would indicate no strong relationship, suggesting that indigenous groups are not more likely to present substance use issues. \n",
    "\n",
    "By conducting such an analysis, we can understand whether substance use issues are linked to Indigenous identity and can inform targeted health policies and interventions aimed at supporting vulnerable populations. This analysis addresses the course project’s focus on social determinants of health and potential inequalities. \n",
    "# 3. Age and WELLNESS_malach_pines_burnout_measure_disappointed\n",
    "\n",
    "The research question: Does age have an effect on feelings of disappointment as measured by the Malach-Pines Burnout Measure?\n",
    "\n",
    "This analysis investigates whether burnout-related feelings of disappointment vary with age. Understanding this relationship could help identify age groups that are more vulnerable to burnout, which is relevant for designing age-specific wellness and support programs.\n",
    "\n",
    "Hypothesis: I hypothesize that there will be a curvilinear (non-linear) relationship between age and burnout-related disappointment. Further, I believe that burnout-related disappointment will be higher in younger adults due to early career and life stressors, decrease in middle age as individuals achieve more stability, and then increase again in older age as health and retirement concerns emerge.\n",
    "\n",
    "Independent Variable: DEMO_age \n",
    "\n",
    "Dependent Variable: WELLNESS_malach_pines_burnout_measure_disappointed\n",
    "\n",
    "There’s 2 ways I may analyze these variables: correlation analysis and linear regression. I could compute the correlation coefficient to determine the strength and direction of the relationship between age and burnout-related disappointment, and a scatter plot can visualize the relationship. If a linear trend is observed, I can perform a linear regression analysis to model the relationship and assess the impact of age on burnout-related disappointment. Furthermore, I would use a scatter plot with a trend line to visualize whether there is an increase, decrease, or no change in burnout-related disappointment with age. A positive correlation would suggest that feelings of disappointment increase with age, possibly indicating that older individuals experience more burnout. A negative correlation would suggest that younger individuals experience higher levels of disappointment related to burnout. Lastly, no correlation would indicate that age does not have a strong impact on burnout-related disappointment.\n",
    "\n",
    "By analyzing these variables, the relationship can help us understand age-related trends in burnout, which can inform interventions and mental health strategies tailored to specific age groups. It also contributes to discussions about well-being and the factors influencing burnout across one’s lifespan. "
   ]
  },
  {
   "cell_type": "markdown",
   "id": "7d211065",
   "metadata": {},
   "source": [
    "# Proposed Group Team\n",
    "If possible, I would like to work with Ece Can"
   ]
  },
  {
   "cell_type": "code",
   "execution_count": null,
   "id": "30e099bb",
   "metadata": {},
   "outputs": [],
   "source": []
  }
 ],
 "metadata": {
  "kernelspec": {
   "display_name": "Python 3 (ipykernel)",
   "language": "python",
   "name": "python3"
  },
  "language_info": {
   "codemirror_mode": {
    "name": "ipython",
    "version": 3
   },
   "file_extension": ".py",
   "mimetype": "text/x-python",
   "name": "python",
   "nbconvert_exporter": "python",
   "pygments_lexer": "ipython3",
   "version": "3.11.6"
  }
 },
 "nbformat": 4,
 "nbformat_minor": 5
}
